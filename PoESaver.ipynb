{
 "metadata": {
  "name": "",
  "signature": "sha256:9319f1232a6b424511d224bf782b6eee2edc6f558e4234829b51c0a8a8689c0f"
 },
 "nbformat": 3,
 "nbformat_minor": 0,
 "worksheets": [
  {
   "cells": [
    {
     "cell_type": "code",
     "collapsed": false,
     "input": [
      "import os\n",
      "import threading\n",
      "import shutil"
     ],
     "language": "python",
     "metadata": {},
     "outputs": [],
     "prompt_number": 1
    },
    {
     "cell_type": "code",
     "collapsed": false,
     "input": [
      "def isSaveGame(fileName):\n",
      "    elements = os.path.splitext(fileName)\n",
      "    if elements[1] == '.savegame':\n",
      "        return True\n",
      "    else:\n",
      "        return False\n",
      "\n",
      "def hasBeenSaved(fileName, savedFiles):\n",
      "    if fileName not in savedFiles:\n",
      "        shutil.copyfile(os.path.join('C:\\Users\\Joachim\\Saved Games\\Pillars of Eternity', fileName), os.path.join('C:\\Users\\Joachim\\Saved Games\\Pillars of Eternity\\saved', fileName))\n",
      "        print 'Saved: ' + fileName\n",
      "    return\n",
      "\n",
      "def saveMePls():\n",
      "    threading.Timer(10.0, saveMePls).start()\n",
      "    files = os.listdir('.')\n",
      "    filesSaved = os.listdir('saved')\n",
      "    \n",
      "    for f in files:\n",
      "        if isSaveGame(f):\n",
      "            hasBeenSaved(f, filesSaved)\n",
      "    return"
     ],
     "language": "python",
     "metadata": {},
     "outputs": [],
     "prompt_number": 2
    },
    {
     "cell_type": "code",
     "collapsed": false,
     "input": [
      "saveMePls()"
     ],
     "language": "python",
     "metadata": {},
     "outputs": [
      {
       "output_type": "stream",
       "stream": "stdout",
       "text": [
        "Saved: 1a3ce516766c49cea9e529bc1b7488c0 8022303 MagransFork.savegame\n"
       ]
      },
      {
       "output_type": "stream",
       "stream": "stdout",
       "text": [
        "Saved: 1a3ce516766c49cea9e529bc1b7488c0 8023017 RuinedHouse.savegame\n",
        "Saved: 1a3ce516766c49cea9e529bc1b7488c0 8023044 RuinedHouse.savegame\n"
       ]
      }
     ],
     "prompt_number": 3
    },
    {
     "cell_type": "code",
     "collapsed": false,
     "input": [],
     "language": "python",
     "metadata": {},
     "outputs": []
    }
   ],
   "metadata": {}
  }
 ]
}