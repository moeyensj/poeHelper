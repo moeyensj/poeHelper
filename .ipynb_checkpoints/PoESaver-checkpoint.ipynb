{
 "cells": [
  {
   "cell_type": "code",
   "execution_count": 6,
   "metadata": {
    "collapsed": false
   },
   "outputs": [],
   "source": [
    "import os\n",
    "import threading\n",
    "import shutil\n",
    "\n",
    "SAVEDIR = '/Users/joachim/Library/Application Support/Pillars of Eternity/Saved Games/'\n",
    "COPYDIR = SAVEDIR + 'saved/'\n",
    "\n",
    "def isSaveGame(fileName):\n",
    "    elements = os.path.splitext(fileName)\n",
    "    if elements[1] == '.savegame':\n",
    "        return True\n",
    "    else:\n",
    "        return False\n",
    "\n",
    "def hasBeenSaved(fileName, savedFiles):\n",
    "    if fileName not in savedFiles:\n",
    "        shutil.copyfile(os.path.join(SAVEDIR, fileName), os.path.join(COPYDIR, fileName))\n",
    "        print 'Saved: ' + fileName\n",
    "    return\n",
    "\n",
    "def saveMePls():\n",
    "    threading.Timer(10.0, saveMePls).start()\n",
    "    files = os.listdir(SAVEDIR)\n",
    "    filesSaved = os.listdir(COPYDIR)\n",
    "    \n",
    "    for f in files:\n",
    "        if isSaveGame(f):\n",
    "            hasBeenSaved(f, filesSaved)\n",
    "    return"
   ]
  },
  {
   "cell_type": "code",
   "execution_count": 8,
   "metadata": {
    "collapsed": false
   },
   "outputs": [
    {
     "name": "stdout",
     "output_type": "stream",
     "text": [
      "Saved: tes2t.savegame\n"
     ]
    }
   ],
   "source": [
    "saveMePls()"
   ]
  },
  {
   "cell_type": "code",
   "execution_count": null,
   "metadata": {
    "collapsed": true
   },
   "outputs": [],
   "source": []
  }
 ],
 "metadata": {
  "kernelspec": {
   "display_name": "Python 2",
   "language": "python",
   "name": "python2"
  },
  "language_info": {
   "codemirror_mode": {
    "name": "ipython",
    "version": 2
   },
   "file_extension": ".py",
   "mimetype": "text/x-python",
   "name": "python",
   "nbconvert_exporter": "python",
   "pygments_lexer": "ipython2",
   "version": "2.7.9"
  }
 },
 "nbformat": 4,
 "nbformat_minor": 0
}
